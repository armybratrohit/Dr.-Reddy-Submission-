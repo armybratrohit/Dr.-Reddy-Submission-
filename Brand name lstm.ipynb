{
 "cells": [
  {
   "cell_type": "code",
   "execution_count": 1,
   "id": "ef8efd7c",
   "metadata": {
    "id": "ef8efd7c"
   },
   "outputs": [],
   "source": [
    "import pandas as pd\n",
    "import numpy as np\n",
    "import tensorflow as tf\n",
    "import time\n",
    "from tensorflow.keras.models import Sequential\n",
    "from tensorflow.keras.layers import Dense\n",
    "from tensorflow.keras.layers import LSTM\n",
    "from tensorflow.keras.optimizers import RMSprop\n",
    "import numpy as np\n",
    "import random\n",
    "import os"
   ]
  },
  {
   "cell_type": "code",
   "execution_count": 2,
   "id": "bcef353c",
   "metadata": {
    "id": "bcef353c"
   },
   "outputs": [],
   "source": [
    "step_length = 1    # The step length we take to get our samples from our corpus\n",
    "epochs = 5       # Number of times we train on our full data\n",
    "batch_size = 32    # Data samples in each training step\n",
    "latent_dim = 64    # Size of our LSTM\n",
    "dropout_rate = 0.2 # Regularization with dropout\n",
    "model_path = os.path.realpath('./poke_gen_model.h5') # Location for the model\n",
    "load_model = False # Enable loading model from disk\n",
    "store_model = True # Store model to disk after training\n",
    "verbosity = 1      # Print result for each epoch\n",
    "gen_amount = 10    # How many "
   ]
  },
  {
   "cell_type": "code",
   "execution_count": 3,
   "id": "deb670bc",
   "metadata": {
    "colab": {
     "base_uri": "https://localhost:8080/"
    },
    "id": "deb670bc",
    "outputId": "3592e625-123a-48c5-c24b-7c6a27d0590c"
   },
   "outputs": [
    {
     "name": "stdout",
     "output_type": "stream",
     "text": [
      "Reading names from file:\n",
      "Country\tMolecule Name\n",
      "ALGERIA\tTOOTHPASTE\n",
      "ALGERIA\tMONOFLUORO\n",
      "ALGERIA\tGERANIUM R\n",
      "ALGERIA\tHEXETIDINE\n",
      "ALGERIA\tCROCUS SAT\n",
      "ALGERIA\tGLYCINE MA\n",
      "ALGERIA\tBENZOIC AC\n",
      "ALGERIA\tALLANTOIN!\n",
      "ALGERIA\tESSENTIAL\n",
      "...\n"
     ]
    }
   ],
   "source": [
    "input_path = os.path.realpath('datagenerator.txt')\n",
    "\n",
    "input_names = []\n",
    "\n",
    "print('Reading names from file:')\n",
    "with open(input_path) as f:\n",
    "    for name in f:\n",
    "        name = name.rstrip()\n",
    "        if len(input_names) < 10:\n",
    "            print(name)\n",
    "        input_names.append(name)\n",
    "    print('...')"
   ]
  },
  {
   "cell_type": "code",
   "execution_count": 4,
   "id": "8a6b1c90",
   "metadata": {
    "colab": {
     "base_uri": "https://localhost:8080/"
    },
    "id": "8a6b1c90",
    "outputId": "5b747768-e231-4245-c594-8ac2d117e459"
   },
   "outputs": [
    {
     "name": "stdout",
     "output_type": "stream",
     "text": [
      "Total chars: 42\n",
      "Corpus length: 4120416\n",
      "Number of names:  221517\n",
      "Longest name:  29\n"
     ]
    }
   ],
   "source": [
    "# Make it all to a long string\n",
    "concat_names = '\\n'.join(input_names).lower()\n",
    "\n",
    "# Find all unique characters by using set()\n",
    "chars = sorted(list(set(concat_names)))\n",
    "num_chars = len(chars)\n",
    "\n",
    "# Build translation dictionaries, 'a' -> 0, 0 -> 'a'\n",
    "char2idx = dict((c, i) for i, c in enumerate(chars))\n",
    "idx2char = dict((i, c) for i, c in enumerate(chars))\n",
    "\n",
    "# Use longest name length as our sequence window\n",
    "max_sequence_length = max([len(name) for name in input_names])\n",
    "\n",
    "print('Total chars: {}'.format(num_chars))\n",
    "print('Corpus length:', len(concat_names))\n",
    "print('Number of names: ', len(input_names))\n",
    "print('Longest name: ', max_sequence_length)"
   ]
  },
  {
   "cell_type": "code",
   "execution_count": 5,
   "id": "6d18a808",
   "metadata": {
    "colab": {
     "base_uri": "https://localhost:8080/"
    },
    "id": "6d18a808",
    "outputId": "8eed9afc-6021-458f-f6ff-4d8593690092"
   },
   "outputs": [
    {
     "name": "stdout",
     "output_type": "stream",
     "text": [
      "Number of sequences: 4120387\n",
      "First 10 sequences and next chars:\n",
      "X=[country\tmolecule name algeria]   y=[\t]\n",
      "X=[ountry\tmolecule name algeria\t]   y=[t]\n",
      "X=[untry\tmolecule name algeria\tt]   y=[o]\n",
      "X=[ntry\tmolecule name algeria\tto]   y=[o]\n",
      "X=[try\tmolecule name algeria\ttoo]   y=[t]\n",
      "X=[ry\tmolecule name algeria\ttoot]   y=[h]\n",
      "X=[y\tmolecule name algeria\ttooth]   y=[p]\n",
      "X=[\tmolecule name algeria\ttoothp]   y=[a]\n",
      "X=[molecule name algeria\ttoothpa]   y=[s]\n",
      "X=[olecule name algeria\ttoothpas]   y=[t]\n"
     ]
    }
   ],
   "source": [
    "sequences = []\n",
    "next_chars = []\n",
    "\n",
    "# Loop over our data and extract pairs of sequances and next chars\n",
    "for i in range(0, len(concat_names) - max_sequence_length, step_length):\n",
    "    sequences.append(concat_names[i: i + max_sequence_length])\n",
    "    next_chars.append(concat_names[i + max_sequence_length])\n",
    "\n",
    "num_sequences = len(sequences)\n",
    "\n",
    "print('Number of sequences:', num_sequences)\n",
    "print('First 10 sequences and next chars:')\n",
    "for i in range(10):\n",
    "    print('X=[{}]   y=[{}]'.replace('\\n', ' ').format(sequences[i], next_chars[i]).replace('\\n', ' '))"
   ]
  },
  {
   "cell_type": "code",
   "execution_count": 6,
   "id": "6fe2cea1",
   "metadata": {
    "id": "6fe2cea1"
   },
   "outputs": [
    {
     "name": "stdout",
     "output_type": "stream",
     "text": [
      "X shape: (4120387, 29, 42)\n",
      "Y shape: (4120387, 42)\n"
     ]
    }
   ],
   "source": [
    "X = np.zeros((num_sequences, max_sequence_length, num_chars), dtype= bool)\n",
    "Y = np.zeros((num_sequences, num_chars), dtype= bool)\n",
    "\n",
    "for i, sequence in enumerate(sequences):\n",
    "    for j, char in enumerate(sequence):\n",
    "        X[i, j, char2idx[char]] = 1\n",
    "    Y[i, char2idx[next_chars[i]]] = 1\n",
    "    \n",
    "print('X shape: {}'.format(X.shape))\n",
    "print('Y shape: {}'.format(Y.shape))"
   ]
  },
  {
   "cell_type": "code",
   "execution_count": 7,
   "id": "9c9c62e9",
   "metadata": {
    "id": "9c9c62e9",
    "outputId": "3462f150-d495-4142-8447-e6f72de82fea"
   },
   "outputs": [
    {
     "name": "stdout",
     "output_type": "stream",
     "text": [
      "Model: \"sequential\"\n",
      "_________________________________________________________________\n",
      "Layer (type)                 Output Shape              Param #   \n",
      "=================================================================\n",
      "lstm (LSTM)                  (None, 64)                27392     \n",
      "_________________________________________________________________\n",
      "dense (Dense)                (None, 42)                2730      \n",
      "=================================================================\n",
      "Total params: 30,122\n",
      "Trainable params: 30,122\n",
      "Non-trainable params: 0\n",
      "_________________________________________________________________\n"
     ]
    }
   ],
   "source": [
    "model = Sequential()\n",
    "model.add(LSTM(latent_dim, \n",
    "               input_shape=(max_sequence_length, num_chars),  \n",
    "               recurrent_dropout=dropout_rate))\n",
    "model.add(Dense(units=num_chars, activation='softmax'))\n",
    "\n",
    "optimizer = RMSprop(lr=0.01)\n",
    "model.compile(loss='categorical_crossentropy',\n",
    "              optimizer=optimizer)\n",
    "\n",
    "model.summary()"
   ]
  },
  {
   "cell_type": "code",
   "execution_count": 8,
   "id": "e71defcc",
   "metadata": {
    "id": "e71defcc",
    "outputId": "a829c08b-6f3f-4275-d3b7-aebb935e259c"
   },
   "outputs": [
    {
     "name": "stdout",
     "output_type": "stream",
     "text": [
      "Start training for 5 epochs\n",
      "Epoch 1/5\n",
      "128763/128763 [==============================] - 3139s 24ms/step - loss: 0.8756\n",
      "Epoch 2/5\n",
      "128763/128763 [==============================] - 1400s 11ms/step - loss: 0.7034\n",
      "Epoch 3/5\n",
      "128763/128763 [==============================] - 1416s 11ms/step - loss: 1.6585\n",
      "Epoch 4/5\n",
      "128763/128763 [==============================] - 1369s 11ms/step - loss: 13.0500\n",
      "Epoch 5/5\n",
      "128763/128763 [==============================] - 1331s 10ms/step - loss: 3.2278\n",
      "Finished training - time elapsed: 144.24883418480556 min\n",
      "Storing model at: C:\\Users\\Rohit\\Desktop\\Dr. Reddys\\Quarter Final\\new code\\poke_gen_model.h5\n"
     ]
    }
   ],
   "source": [
    "if load_model:\n",
    "    model.load_weights(model_path)\n",
    "else:\n",
    "    \n",
    "    start = time.time()\n",
    "    print('Start training for {} epochs'.format(epochs))\n",
    "    history = model.fit(X, Y, epochs=epochs, batch_size=batch_size, verbose=verbosity)\n",
    "    end = time.time()\n",
    "    print('Finished training - time elapsed:', (end - start)/60, 'min')\n",
    "    \n",
    "if store_model:\n",
    "    print('Storing model at:', model_path)\n",
    "    model.save(model_path)\n",
    "    \n",
    "    "
   ]
  },
  {
   "cell_type": "code",
   "execution_count": 9,
   "id": "b0ce4c82",
   "metadata": {
    "id": "b0ce4c82",
    "outputId": "156a6fe4-65b6-4185-fc3e-9f5f06b734a6"
   },
   "outputs": [
    {
     "name": "stdout",
     "output_type": "stream",
     "text": [
      "10 new names are being generated\n",
      "Generated 1\n",
      "Generated 2\n",
      "Generated 2\n",
      "Generated 3\n",
      "Generated 3\n",
      "Generated 4\n",
      "Generated 5\n",
      "Generated 6\n",
      "Generated 7\n",
      "Generated 8\n",
      "Generated 9\n",
      "Generated 9\n",
      "Generated 10\n"
     ]
    }
   ],
   "source": [
    "# Start sequence generation from end of the input sequence\n",
    "sequence = concat_names[-(max_sequence_length - 1):] + '\\n'\n",
    "\n",
    "new_names = []\n",
    "\n",
    "print('{} new names are being generated'.format(gen_amount))\n",
    "\n",
    "while len(new_names) < gen_amount:\n",
    "    \n",
    "    # Vectorize sequence for prediction\n",
    "    x = np.zeros((1, max_sequence_length, num_chars))\n",
    "    for i, char in enumerate(sequence):\n",
    "        x[0, i, char2idx[char]] = 1\n",
    "\n",
    "    # Sample next char from predicted probabilities\n",
    "    probs = model.predict(x, verbose=0)[0]\n",
    "    probs /= probs.sum()\n",
    "    next_idx = np.random.choice(len(probs), p=probs)   \n",
    "    next_char = idx2char[next_idx]   \n",
    "    sequence = sequence[1:] + next_char\n",
    "\n",
    "    # New line means we have a new name\n",
    "    if next_char == '\\n':\n",
    "\n",
    "        gen_name = [name for name in sequence.split('\\n')][1]\n",
    "\n",
    "        # Never start name with two identical chars, could probably also\n",
    "        if len(gen_name) > 2 and gen_name[0] == gen_name[1]:\n",
    "            gen_name = gen_name[1:]\n",
    "\n",
    "        # Discard all names that are too short\n",
    "        if len(gen_name) > 2:\n",
    "            \n",
    "            # Only allow new and unique names\n",
    "            if gen_name not in input_names + new_names:\n",
    "                new_names.append(gen_name.capitalize())\n",
    "\n",
    "        if 0 == (len(new_names) % (gen_amount/ 10)):\n",
    "            print('Generated {}'.format(len(new_names)))"
   ]
  },
  {
   "cell_type": "markdown",
   "id": "0fd6e316",
   "metadata": {},
   "source": []
  },
  {
   "cell_type": "code",
   "execution_count": 10,
   "id": "d1dcf118",
   "metadata": {
    "id": "d1dcf118",
    "outputId": "2b01cf31-c671-44de-92e9-edfec78ecbe6"
   },
   "outputs": [
    {
     "name": "stdout",
     "output_type": "stream",
     "text": [
      "First 10 generated names:\n",
      "Vietnam\tflunarizin\n",
      "Vietnam\tflunarizin\n",
      "Soluao\n",
      "Gcml\tex\tdalensc\n",
      "Gcml\tex\tdalensc\n",
      "Namytl\n",
      "Gpgamadogarss\to\t\tao\n",
      "Iraalxetn!na\topandmr\n",
      "Iraalxetn!na\topandmr\n",
      "Allursturfa\tlimelsoxua\n"
     ]
    }
   ],
   "source": [
    "print_first_n = min(10, gen_amount)\n",
    "\n",
    "print('First {} generated names:'.format(print_first_n))\n",
    "for name in new_names[:print_first_n]:\n",
    "    print(name)\n"
   ]
  },
  {
   "cell_type": "code",
   "execution_count": null,
   "id": "98122819",
   "metadata": {},
   "outputs": [],
   "source": []
  },
  {
   "cell_type": "code",
   "execution_count": null,
   "id": "b4c233ed",
   "metadata": {},
   "outputs": [],
   "source": []
  }
 ],
 "metadata": {
  "colab": {
   "provenance": []
  },
  "kernelspec": {
   "display_name": "Python 3",
   "language": "python",
   "name": "python3"
  },
  "language_info": {
   "codemirror_mode": {
    "name": "ipython",
    "version": 3
   },
   "file_extension": ".py",
   "mimetype": "text/x-python",
   "name": "python",
   "nbconvert_exporter": "python",
   "pygments_lexer": "ipython3",
   "version": "3.8.8"
  }
 },
 "nbformat": 4,
 "nbformat_minor": 5
}
